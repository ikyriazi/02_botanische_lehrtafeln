{
 "cells": [
  {
   "cell_type": "code",
   "execution_count": 1,
   "metadata": {},
   "outputs": [],
   "source": [
    "# Task: extract image names from multiple LIDO files (Collection: Botanische Lehrtafeln)"
   ]
  },
  {
   "cell_type": "code",
   "execution_count": 2,
   "metadata": {},
   "outputs": [],
   "source": [
    "import glob\n",
    "import xml.etree.ElementTree as ET"
   ]
  },
  {
   "cell_type": "code",
   "execution_count": 3,
   "metadata": {},
   "outputs": [],
   "source": [
    "xml_files = glob.glob('test-metadaten/*')"
   ]
  },
  {
   "cell_type": "code",
   "execution_count": 4,
   "metadata": {},
   "outputs": [],
   "source": [
    "ns = {'lido':'http://www.lido-schema.org'}"
   ]
  },
  {
   "cell_type": "code",
   "execution_count": 5,
   "metadata": {},
   "outputs": [
    {
     "name": "stdout",
     "output_type": "stream",
     "text": [
      "test-metadaten/record_naniweb_455429.xml:\n",
      "https://sammlungen.uni-goettingen.de/rest/image/record_naniweb_455429/record_naniweb_455429_6734.jpg/full/300,/0/default.jpg\n",
      "https://sammlungen.uni-goettingen.de/rest/image/record_naniweb_455429/record_naniweb_455429_7969.jpg/full/300,/0/default.jpg\n",
      "\n",
      "test-metadaten/record_naniweb_455438.xml:\n",
      "https://sammlungen.uni-goettingen.de/rest/image/record_naniweb_455438/record_naniweb_455438_6727.jpg/full/300,/0/default.jpg\n",
      "https://sammlungen.uni-goettingen.de/rest/image/record_naniweb_455438/record_naniweb_455438_7961.jpg/full/300,/0/default.jpg\n",
      "\n",
      "test-metadaten/record_naniweb_457448.xml:\n",
      "https://sammlungen.uni-goettingen.de/rest/image/record_naniweb_457448/record_naniweb_457448_16819.jpg/full/300,/0/default.jpg\n",
      "https://sammlungen.uni-goettingen.de/rest/image/record_naniweb_457448/record_naniweb_457448_17607.jpg/full/300,/0/default.jpg\n",
      "https://sammlungen.uni-goettingen.de/rest/image/record_naniweb_457448/record_naniweb_457448_17606.jpg/full/300,/0/default.jpg\n",
      "\n",
      "test-metadaten/record_naniweb_455423.xml:\n",
      "https://sammlungen.uni-goettingen.de/rest/image/record_naniweb_455423/record_naniweb_455423_6742.jpg/full/300,/0/default.jpg\n",
      "https://sammlungen.uni-goettingen.de/rest/image/record_naniweb_455423/record_naniweb_455423_7977.jpg/full/300,/0/default.jpg\n",
      "\n",
      "test-metadaten/record_naniweb_455437.xml:\n",
      "https://sammlungen.uni-goettingen.de/rest/image/record_naniweb_455437/record_naniweb_455437_6729.jpg/full/300,/0/default.jpg\n",
      "https://sammlungen.uni-goettingen.de/rest/image/record_naniweb_455437/record_naniweb_455437_7963.jpg/full/300,/0/default.jpg\n",
      "\n",
      "test-metadaten/record_naniweb_455436.xml:\n",
      "https://sammlungen.uni-goettingen.de/rest/image/record_naniweb_455436/record_naniweb_455436_6730.jpg/full/300,/0/default.jpg\n",
      "https://sammlungen.uni-goettingen.de/rest/image/record_naniweb_455436/record_naniweb_455436_7964.jpg/full/300,/0/default.jpg\n",
      "\n",
      "test-metadaten/record_naniweb_455434.xml:\n",
      "https://sammlungen.uni-goettingen.de/rest/image/record_naniweb_455434/record_naniweb_455434_6731.jpg/full/300,/0/default.jpg\n",
      "https://sammlungen.uni-goettingen.de/rest/image/record_naniweb_455434/record_naniweb_455434_7966.jpg/full/300,/0/default.jpg\n",
      "https://sammlungen.uni-goettingen.de/rest/image/record_naniweb_455434/record_naniweb_455434_7965.jpg/full/300,/0/default.jpg\n",
      "\n",
      "test-metadaten/record_naniweb_455421.xml:\n",
      "https://sammlungen.uni-goettingen.de/rest/image/record_naniweb_455421/record_naniweb_455421_6740.jpg/full/300,/0/default.jpg\n",
      "https://sammlungen.uni-goettingen.de/rest/image/record_naniweb_455421/record_naniweb_455421_7975.jpg/full/300,/0/default.jpg\n",
      "\n",
      "test-metadaten/record_naniweb_455431.xml:\n",
      "https://sammlungen.uni-goettingen.de/rest/image/record_naniweb_455431/record_naniweb_455431_6733.jpg/full/300,/0/default.jpg\n",
      "https://sammlungen.uni-goettingen.de/rest/image/record_naniweb_455431/record_naniweb_455431_7968.jpg/full/300,/0/default.jpg\n",
      "\n",
      "test-metadaten/record_naniweb_455426.xml:\n",
      "https://sammlungen.uni-goettingen.de/rest/image/record_naniweb_455426/record_naniweb_455426_6737.jpg/full/300,/0/default.jpg\n",
      "https://sammlungen.uni-goettingen.de/rest/image/record_naniweb_455426/record_naniweb_455426_7972.jpg/full/300,/0/default.jpg\n",
      "\n",
      "test-metadaten/record_naniweb_455432.xml:\n",
      "https://sammlungen.uni-goettingen.de/rest/image/record_naniweb_455432/record_naniweb_455432_6735.jpg/full/300,/0/default.jpg\n",
      "https://sammlungen.uni-goettingen.de/rest/image/record_naniweb_455432/record_naniweb_455432_7970.jpg/full/300,/0/default.jpg\n",
      "\n",
      "test-metadaten/record_naniweb_455433.xml:\n",
      "https://sammlungen.uni-goettingen.de/rest/image/record_naniweb_455433/record_naniweb_455433_6732.jpg/full/300,/0/default.jpg\n",
      "https://sammlungen.uni-goettingen.de/rest/image/record_naniweb_455433/record_naniweb_455433_7967.jpg/full/300,/0/default.jpg\n",
      "\n",
      "test-metadaten/record_naniweb_455427.xml:\n",
      "https://sammlungen.uni-goettingen.de/rest/image/record_naniweb_455427/record_naniweb_455427_7597.jpg/full/300,/0/default.jpg\n",
      "https://sammlungen.uni-goettingen.de/rest/image/record_naniweb_455427/record_naniweb_455427_8824.jpg/full/300,/0/default.jpg\n",
      "\n"
     ]
    }
   ],
   "source": [
    "for xml_file in xml_files:\n",
    "    print(xml_file + \":\")\n",
    "    tree = ET.parse(xml_file)\n",
    "    root = tree.getroot()\n",
    "    resourceSets = root.findall(\".//lido:resourceSet\", ns)\n",
    "    for resourceSet in resourceSets:\n",
    "        resourseRepresentations = resourceSet.findall(\"./lido:resourceRepresentation[@{http://www.lido-schema.org}type='http://terminology.lido-schema.org/resourceRepresentation_type/preview_representation']\", ns)\n",
    "        for resourseRepresentation in resourseRepresentations:\n",
    "            link = resourseRepresentation.find(\"./lido:linkResource\", ns).text\n",
    "            print(link)\n",
    "    print(\"\")"
   ]
  }
 ],
 "metadata": {
  "kernelspec": {
   "display_name": "Python 3 (ipykernel)",
   "language": "python",
   "name": "python3"
  },
  "language_info": {
   "codemirror_mode": {
    "name": "ipython",
    "version": 3
   },
   "file_extension": ".py",
   "mimetype": "text/x-python",
   "name": "python",
   "nbconvert_exporter": "python",
   "pygments_lexer": "ipython3",
   "version": "3.9.13"
  }
 },
 "nbformat": 4,
 "nbformat_minor": 4
}
